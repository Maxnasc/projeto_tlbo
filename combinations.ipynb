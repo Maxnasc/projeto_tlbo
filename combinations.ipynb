{
 "cells": [
  {
   "cell_type": "markdown",
   "id": "596fc2aa",
   "metadata": {},
   "source": [
    "# Combinações de parâmetros no algoritmo de evolução diferencial\n",
    "\n",
    "SR = 0.8\n",
    "CR = variável -> acima de 0.4\n",
    "P = 100\n",
    "gama = 0.1*data_range"
   ]
  }
 ],
 "metadata": {
  "language_info": {
   "name": "python"
  }
 },
 "nbformat": 4,
 "nbformat_minor": 5
}
